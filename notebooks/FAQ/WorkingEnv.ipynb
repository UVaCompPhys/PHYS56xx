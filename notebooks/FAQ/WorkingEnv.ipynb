{
 "cells": [
  {
   "cell_type": "markdown",
   "metadata": {
    "slideshow": {
     "slide_type": "slide"
    }
   },
   "source": [
    "# Conda, Anaconda, Miniconda, etc\n",
    "\n",
    "\n",
    "There are many options for configuring a working environmant for scientific computing and data science.  \n",
    "\n",
    "**Care must be taken to manage large collections of interconnected software packages.**\n",
    "\n",
    "* Compatible versions of code libraries, compilers, languages, operating system libraries are required to build a working installation of your software tool chain.  \n",
    "* All of these are under constant development, therefore care much be taken to maintain any working environment against creeping incompatibilities if some parts of the environment are updated."
   ]
  },
  {
   "cell_type": "markdown",
   "metadata": {
    "slideshow": {
     "slide_type": "slide"
    }
   },
   "source": [
    "[![https://xkcd.com/1987/](https://imgs.xkcd.com/comics/python_environment.png \"https://xkcd.com/1987/\")](https://xkcd.com/1987/)"
   ]
  },
  {
   "cell_type": "markdown",
   "metadata": {
    "slideshow": {
     "slide_type": "slide"
    }
   },
   "source": [
    "## So, how is all this managed?\n",
    "\n",
    "One option is to use the tools in your **distribution**.  A GNU/Linux distribution (eg Ubuntu, Fedora, CentOS, SUSE, Arch, ...) is a collection of compatable packages combined with a Linux kernel.  Distributions manage 1000's of packages to maintain compatability across updates.  This is very convenient and is the typical way that many systems are managed.\n",
    "  * Some distributions are managed for long term stability. So updates are primarily released as bug fixes and security enhancements.\n",
    "  * Others are updated frequenty to also keep up with the latest software feature improvements.\n",
    "  * Typically major upgrades (eg things like major version changes for the kernel, compilers, big tools) are only occur with new distribution versions.\n",
    " "
   ]
  },
  {
   "cell_type": "markdown",
   "metadata": {
    "slideshow": {
     "slide_type": "subslide"
    }
   },
   "source": [
    "Distribution upgrades work very well, but they can't include every imaginable software package.  \n",
    "\n",
    "A very popular option for adding PYTHON modules to your system is `pip`, the *package installer for Python*. \n",
    "\n",
    "`pip` can access huge collection of packages, but it works less well for those that have complex dependencies on binary modules and that describes a *lot* of scientific software. \n",
    "\n",
    "Similarly, even if a pip install works flawlessly, a system manager (that may be you for your laptop!) could upgrade a dependency in the future and your user-installed packages can stop working unless you carefully control your working environment.  "
   ]
  },
  {
   "cell_type": "markdown",
   "metadata": {
    "slideshow": {
     "slide_type": "subslide"
    }
   },
   "source": [
    "It is important make sure that you maintain compatibility with any software you add to your system.  \n",
    "\n",
    "You may also need to install software that is not even compatible with the current packages in your distribution. \n",
    "\n",
    "For example, it's entirely possible that you'll eventually need some important software for your work that turns out to be incompatible with the bleeding edge compiler installed on your laptop or with the default and somewhat ancient compiler installed on the large computer cluster you will use.   \n",
    "\n",
    "<font color=blue>In cases like this it can be very difficult to manage the full set of dependencies which typically include alternate copies of libraries, compilers, etc.</font>  "
   ]
  },
  {
   "cell_type": "markdown",
   "metadata": {
    "slideshow": {
     "slide_type": "subslide"
    }
   },
   "source": [
    "This problem can be solved in a variety of ways, including:\n",
    "* the use of virtual machines and various containiers which package up a whole OS or parts of one to define your computing environment.  \n",
    "* another option is to use alternate *root* environments maybe even on a distributed filesystem to provide collections of programs and libraries which can be used to ensure a consistent configuration.  \n",
    "\n",
    "However, some these options may not be available to use on systems that you can't personally manage and even if you do have [root access](https://xkcd.com/149/), the learning curve and time involved may be [discouraging](https://xkcd.com/349/).  Fortunately, numerous solutions exist for this common problem."
   ]
  },
  {
   "cell_type": "markdown",
   "metadata": {
    "slideshow": {
     "slide_type": "subslide"
    }
   },
   "source": [
    "One tool for managing alternative environments, independent of the default system environment is to use [conda](https://anaconda.org/anaconda/conda).  The basics of this tool are easy to learn."
   ]
  },
  {
   "cell_type": "markdown",
   "metadata": {
    "slideshow": {
     "slide_type": "fragment"
    }
   },
   "source": [
    "**conda is a package manager**  \n",
    "\n",
    "By default conda pulls packages from a repository called the [AnacondaCloud](https://anaconda.org/)\\*, which aims to support the data science community by maintaining a large variety of [PYTHON](https://www.python.org/) and [R](https://www.r-project.org/) packages.  \n",
    "\n",
    "Packages are provided in different versions and compiled to be compatible with different operating systems.  Conda is used to create working environments that contain compatible collections of tools.\n",
    "\n",
    "\\*Other repositories can be added as well.  We will use the [conda-forge](https://conda-forge.org/) repository, which includes many packages used in physics and other areas of science."
   ]
  },
  {
   "cell_type": "markdown",
   "metadata": {
    "slideshow": {
     "slide_type": "subslide"
    }
   },
   "source": [
    "For example, you can easily use conda to install several differnet versions of python and even compiler collections along with the the supporting libraries needed to make each environment complete.  Then a simple command can be used to switch between environments."
   ]
  },
  {
   "cell_type": "markdown",
   "metadata": {
    "slideshow": {
     "slide_type": "subslide"
    }
   },
   "source": [
    "**anaconda is a large collection of packages** including python and many data analysis/science tools. <br>\n",
    "Installing anaconda may bring in a lot of packages you don't need."
   ]
  },
  {
   "cell_type": "markdown",
   "metadata": {
    "slideshow": {
     "slide_type": "fragment"
    }
   },
   "source": [
    "**miniconda is a minimal collection of packages** including python.\n",
    "\n",
    "Starting from miniconda, you'll have to install some packages by hand.  But you'll do this anyway if you want to use a certain scientific software packages.  So miniconda is often preferred by \"power users\"."
   ]
  },
  {
   "cell_type": "markdown",
   "metadata": {
    "slideshow": {
     "slide_type": "subslide"
    }
   },
   "source": [
    "![miniconda_vs_anaconda](https://galaxyproject.github.io/training-material/topics/dev/images/miniconda_vs_anaconda.png \"Image from https://planemo.readthedocs.io/en/latest/writing_advanced.html\")"
   ]
  },
  {
   "cell_type": "markdown",
   "metadata": {
    "slideshow": {
     "slide_type": "slide"
    }
   },
   "source": [
    "## Setting up your environment on Rivanna\n",
    "\n",
    "Here we will go though the exercise to setup your own personal conda environment called **phys56xx** on Rivanna for use in this class.  \n",
    "\n",
    "The following instructions can reasonably be expected to work on any modern Linux system to give you a compatible working environment to the one on Rivanna. \n",
    "\n",
    "They *should* work on recent MacOS systems and will not work on Windows.  Go ahead and explore whay you can do natively on MacOS and Windows, but these will not be 'officially supported' in the class.\n",
    "* MacOS note: While the instructions are known to work on Intel-based Macs, we have no information at this time about the new ARM-based Mac systems.\n",
    "* Windows note:  The Linux installation is known to work using WLSv2 (and, for example, a receent Ubuntu installation).  You will also need to install the Xming and Xming-fonts pakages for full functionality."
   ]
  },
  {
   "cell_type": "markdown",
   "metadata": {
    "slideshow": {
     "slide_type": "slide"
    }
   },
   "source": [
    "Follow the instructions below from your Rivanna account to setup an environment.  The steps are very simple and at the end you'll have a stable environment that's safe from future system upgrades!\n"
   ]
  },
  {
   "cell_type": "markdown",
   "metadata": {
    "slideshow": {
     "slide_type": "subslide"
    }
   },
   "source": [
    "1) Download latest [miniconda](https://docs.conda.io/en/latest/miniconda.html) <br>\n",
    "miniconda provides a version of python (we'll use python3) along with the tools needed to create, install, and manage your own customized environments.\n",
    "\n",
    "```bash\n",
    "wget https://repo.anaconda.com/miniconda/Miniconda3-latest-Linux-x86_64.sh\n",
    "chmod +x Miniconda3-latest-Linux-x86_64.sh\n",
    "./Miniconda3-latest-Linux-x86_64.sh\n",
    "```\n",
    "Follow the instructions printed by the script and it's OK to accept the default choices.<br>\n",
    "(Btw graphical installers are also available..humbug!)\n",
    "\n",
    "Executing the script creates a directory ```miniconda3``` by default in your home area and modifies your ```.bashrc``` file to include the conda tools in your path.\n",
    "You can delete the miniconda script when you are finished.\n",
    "\n",
    "\\[ On MacOS use: https://repo.anaconda.com/miniconda/Miniconda3-latest-MacOSX-x86_64.sh \\]"
   ]
  },
  {
   "cell_type": "markdown",
   "metadata": {
    "slideshow": {
     "slide_type": "subslide"
    }
   },
   "source": [
    "2) For changes above to take effect, close and re-open your current shell, logout and back in or ```source ~/.bashrc``` again\n",
    "\n",
    "A personal preference:  If you'd prefer that conda's base environment not be activated on startup, set the auto_activate_base parameter to false. \n",
    "\n",
    "```bash\n",
    "conda config --set auto_activate_base false\n",
    "```"
   ]
  },
  {
   "cell_type": "markdown",
   "metadata": {
    "slideshow": {
     "slide_type": "subslide"
    }
   },
   "source": [
    "3) Make sure the conda installer is up to data\n",
    "```bash\n",
    "conda update -n base -c defaults conda\n",
    "```"
   ]
  },
  {
   "cell_type": "markdown",
   "metadata": {
    "slideshow": {
     "slide_type": "subslide"
    }
   },
   "source": [
    "4) Add the conda-forge repository\n",
    "```bash\n",
    "conda config --add channels conda-forge\n",
    "conda config --show channels\n",
    "conda config --set channel_priority strict\n",
    "```\n",
    "The last command above gives conda-forge priority for ensuring that all packages are installed compatibly.  This essentially forces compatibility with the most recent package versions in conda-forge."
   ]
  },
  {
   "cell_type": "markdown",
   "metadata": {
    "slideshow": {
     "slide_type": "subslide"
    }
   },
   "source": [
    "5) Create an environment\n",
    "```bash\n",
    "conda create -n phys56xx python=3.9\n",
    "```"
   ]
  },
  {
   "cell_type": "markdown",
   "metadata": {
    "slideshow": {
     "slide_type": "subslide"
    }
   },
   "source": [
    "6) List your environments and actiate phys56xx\n",
    "```bash\n",
    "conda env list\n",
    "conda activate phys56xx\n",
    "```\n",
    "```bash\n",
    "# to deactivate the environment use\n",
    "conda deactivate\n",
    "```\n",
    "\n",
    "Note: you will need to execute `conda activate phys56xx` each time you log in or open a new shell to start working.   Do not place `conda activate phys56xx` at the end of your `.bashrc` file on Rivanna.  This can cause problems with the initializing the default system tools."
   ]
  },
  {
   "cell_type": "markdown",
   "metadata": {
    "slideshow": {
     "slide_type": "subslide"
    }
   },
   "source": [
    "7) Install the packages for PHYS56xx ( this step will take several minutes with a fast internet connection )\n",
    "\n",
    "**Make sure that your phys56xx environment is active before you enter the following commands**\n",
    "```bash\n",
    "# install some common python packages\n",
    "conda install --yes scipy matplotlib seaborn sympy scikit-learn\n",
    "# install a jit python compiler, the ROOT analysis framework, and gnu scientific library\n",
    "# n.b. installing ROOT also brings in a compatible C++ compiler and libs\n",
    "conda install --yes numba root gsl\n",
    "# optionally\n",
    "conda install --yes jupyterlab ffmpeg\n",
    "#conda install --yes gnuplot geant4 cmake # do not install for phys56xx, for gnuplot on Rivanna use module load gnuplot\n",
    "```"
   ]
  },
  {
   "cell_type": "markdown",
   "metadata": {
    "slideshow": {
     "slide_type": "slide"
    },
    "tags": []
   },
   "source": [
    "Looking over your environment\n",
    "----\n",
    "With the envirnment set up, your prompt should like something like<br>\n",
    "`(phys56xx) [rjh2j ~]$`<br>\n",
    "Within this environment your paths will be defined to access the programs and libraries you installed above. Try the following commands to see that you are not using your installed packages and are not relying on the Rivanna defaults:\n",
    "* `printenv | grep miniconda3`\n",
    "* `which python`\n",
    "* `which g++`\n",
    "\n",
    "To see everything you just installed, type `conda list`"
   ]
  },
  {
   "cell_type": "markdown",
   "metadata": {
    "slideshow": {
     "slide_type": "slide"
    }
   },
   "source": [
    "# Install git\n",
    "Finally, make sure [ git](https://en.wikipedia.org/wiki/Git) is installed.<br>\n",
    "We will use git throughout the semester to distribute examples and to facilitate teamwork on the exercises.\n",
    "\n",
    "Type `which git` on your command line.  If the `git` command is not found, you can install either by:\n",
    "* Using the packaging tools for your OS distrinution.  For example, see this [guide](https://gist.github.com/derhuerst/1b15ff4652a867391f03)\n",
    "* Just add it to your conda environment using `conda install git`"
   ]
  }
 ],
 "metadata": {
  "celltoolbar": "Slideshow",
  "kernelspec": {
   "display_name": "Python 3 (ipykernel)",
   "language": "python",
   "name": "python3"
  },
  "language_info": {
   "codemirror_mode": {
    "name": "ipython",
    "version": 3
   },
   "file_extension": ".py",
   "mimetype": "text/x-python",
   "name": "python",
   "nbconvert_exporter": "python",
   "pygments_lexer": "ipython3",
   "version": "3.9.6"
  }
 },
 "nbformat": 4,
 "nbformat_minor": 4
}
